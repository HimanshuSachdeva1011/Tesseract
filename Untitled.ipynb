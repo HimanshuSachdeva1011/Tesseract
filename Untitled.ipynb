{
 "cells": [
  {
   "cell_type": "code",
   "execution_count": 1,
   "id": "cc940c42",
   "metadata": {},
   "outputs": [],
   "source": [
    "import cv2\n",
    "import pytesseract\n",
    "import re\n",
    "import csv"
   ]
  },
  {
   "cell_type": "code",
   "execution_count": 5,
   "id": "3362112f",
   "metadata": {},
   "outputs": [],
   "source": [
    "pytesseract.pytesseract.tesseract_cmd = \"C:/Users/Himanshu/AppData/Local/Programs/Tesseract-OCR/tesseract.exe\""
   ]
  },
  {
   "cell_type": "code",
   "execution_count": 6,
   "id": "65ab1303",
   "metadata": {},
   "outputs": [],
   "source": [
    "img = cv2.imread('bill-for-4.jpg')\n",
    "text = pytesseract.image_to_string(img)"
   ]
  },
  {
   "cell_type": "code",
   "execution_count": 9,
   "id": "a352efc4",
   "metadata": {},
   "outputs": [
    {
     "ename": "IndexError",
     "evalue": "list index out of range",
     "output_type": "error",
     "traceback": [
      "\u001b[1;31m---------------------------------------------------------------------------\u001b[0m",
      "\u001b[1;31mIndexError\u001b[0m                                Traceback (most recent call last)",
      "Input \u001b[1;32mIn [9]\u001b[0m, in \u001b[0;36m<cell line: 2>\u001b[1;34m()\u001b[0m\n\u001b[0;32m      1\u001b[0m \u001b[38;5;66;03m# Extract the relevant data using regular expressions\u001b[39;00m\n\u001b[1;32m----> 2\u001b[0m customer_name \u001b[38;5;241m=\u001b[39m \u001b[43mre\u001b[49m\u001b[38;5;241;43m.\u001b[39;49m\u001b[43mfindall\u001b[49m\u001b[43m(\u001b[49m\u001b[38;5;124;43m'\u001b[39;49m\u001b[38;5;124;43mName of Food (.+)\u001b[39;49m\u001b[38;5;124;43m'\u001b[39;49m\u001b[43m,\u001b[49m\u001b[43m \u001b[49m\u001b[43mtext\u001b[49m\u001b[43m)\u001b[49m\u001b[43m[\u001b[49m\u001b[38;5;241;43m0\u001b[39;49m\u001b[43m]\u001b[49m\n\u001b[0;32m      3\u001b[0m \u001b[38;5;66;03m# invoice_number = re.findall('Invoice Number: (.+)', text)[0]\u001b[39;00m\n\u001b[0;32m      4\u001b[0m \u001b[38;5;66;03m# date = re.findall('Date: (.+)', text)[0]\u001b[39;00m\n\u001b[0;32m      5\u001b[0m \u001b[38;5;66;03m# line_items = re.findall('(.+)\\s+(\\d+)\\s+(\\d+\\.\\d+)', text)\u001b[39;00m\n\u001b[0;32m      6\u001b[0m \u001b[38;5;66;03m# total_amount = sum(float(item[2]) for item in line_items)\u001b[39;00m\n\u001b[0;32m      7\u001b[0m \n\u001b[0;32m      8\u001b[0m \u001b[38;5;66;03m# Save the extracted data in a CSV file\u001b[39;00m\n\u001b[0;32m      9\u001b[0m \u001b[38;5;28;01mwith\u001b[39;00m \u001b[38;5;28mopen\u001b[39m(\u001b[38;5;124m'\u001b[39m\u001b[38;5;124minvoice.csv\u001b[39m\u001b[38;5;124m'\u001b[39m, \u001b[38;5;124m'\u001b[39m\u001b[38;5;124mw\u001b[39m\u001b[38;5;124m'\u001b[39m, newline\u001b[38;5;241m=\u001b[39m\u001b[38;5;124m'\u001b[39m\u001b[38;5;124m'\u001b[39m) \u001b[38;5;28;01mas\u001b[39;00m csvfile:\n",
      "\u001b[1;31mIndexError\u001b[0m: list index out of range"
     ]
    }
   ],
   "source": [
    "# Extract the relevant data using regular expressions\n",
    "customer_name = re.findall('Name of Food (.+)', text)[0]\n",
    "# invoice_number = re.findall('Invoice Number: (.+)', text)[0]\n",
    "# date = re.findall('Date: (.+)', text)[0]\n",
    "# line_items = re.findall('(.+)\\s+(\\d+)\\s+(\\d+\\.\\d+)', text)\n",
    "# total_amount = sum(float(item[2]) for item in line_items)\n",
    "\n",
    "# Save the extracted data in a CSV file\n",
    "with open('invoice.csv', 'w', newline='') as csvfile:\n",
    "    writer = csv.writer(csvfile)\n",
    "    writer.writerow(['Customer Name', 'Invoice Number', 'Date', 'Line Item', 'Quantity', 'Amount'])\n",
    "    for item in line_items:\n",
    "        writer.writerow([customer_name, invoice_number, date, item[0], item[1], item[2]])\n",
    "    writer.writerow(['', '', '', 'Total', '', total_amount])"
   ]
  },
  {
   "cell_type": "code",
   "execution_count": null,
   "id": "e50c8b5f",
   "metadata": {},
   "outputs": [],
   "source": []
  }
 ],
 "metadata": {
  "kernelspec": {
   "display_name": "Python 3 (ipykernel)",
   "language": "python",
   "name": "python3"
  },
  "language_info": {
   "codemirror_mode": {
    "name": "ipython",
    "version": 3
   },
   "file_extension": ".py",
   "mimetype": "text/x-python",
   "name": "python",
   "nbconvert_exporter": "python",
   "pygments_lexer": "ipython3",
   "version": "3.10.5"
  }
 },
 "nbformat": 4,
 "nbformat_minor": 5
}
